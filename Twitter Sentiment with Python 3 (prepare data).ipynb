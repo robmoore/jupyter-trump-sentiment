{
 "cells": [
  {
   "cell_type": "code",
   "execution_count": 1,
   "metadata": {},
   "outputs": [
    {
     "name": "stdout",
     "output_type": "stream",
     "text": [
      "trumptweet_mod.csv already exists\n"
     ]
    }
   ],
   "source": [
    "%%bash\n",
    "\n",
    "if [ ! -f trumptweet_mod.csv ]; then\n",
    "    sed 's/\"X\",/\"X\",\"X_copy\",/' trumptweet.csv > trumptweet_mod.csv\n",
    "    sed -i 's/\"X.1\",/\"X_1\",/g' trumptweet_mod.csv\n",
    "    sed -i 's/\\\\\"/\"\"/g' trumptweet_mod.csv\n",
    "else\n",
    "    echo \"trumptweet_mod.csv already exists\"\n",
    "fi"
   ]
  },
  {
   "cell_type": "code",
   "execution_count": 2,
   "metadata": {},
   "outputs": [],
   "source": [
    "import pyspark\n",
    "from pyspark.sql import SparkSession\n",
    "\n",
    "conf = pyspark.SparkConf()\n",
    "conf.set(\"spark.executor.memory\", \"4g\")\n",
    "conf.set(\"spark.driver.memory\", \"4g\")\n",
    "\n",
    "sc = pyspark.SparkContext(conf = conf)\n",
    "spark = SparkSession(sc)"
   ]
  },
  {
   "cell_type": "code",
   "execution_count": 21,
   "metadata": {},
   "outputs": [
    {
     "name": "stdout",
     "output_type": "stream",
     "text": [
      "+-------+--------------------+------------------+\n",
      "|summary|                text|             Class|\n",
      "+-------+--------------------+------------------+\n",
      "|  count|                4602|              4602|\n",
      "|   mean|                null|0.5084745762711864|\n",
      "| stddev|                null|0.4999825016554307|\n",
      "|    min|\"#RedState hypocr...|                 0|\n",
      "|    max|�trying to draft ...|                 1|\n",
      "+-------+--------------------+------------------+\n",
      "\n",
      "+-----+-----+\n",
      "|Class|count|\n",
      "+-----+-----+\n",
      "|    0| 2262|\n",
      "|    1| 2340|\n",
      "+-----+-----+\n",
      "\n"
     ]
    }
   ],
   "source": [
    "labeled_data = spark.read.csv(\"trumptweet_mod.csv\", header = True, escape = '\"', encoding = \"windows-1252\", mode = \"FAILFAST\", multiLine = \"true\")\n",
    "labeled_data.select(\"text\",\"Class\").describe().show()\n",
    "labeled_data.groupBy('Class').count().show()\n",
    "\n",
    "labeled_data = labeled_data.filter((labeled_data.Class == '0') | (labeled_data.Class == '1'))"
   ]
  },
  {
   "cell_type": "code",
   "execution_count": 22,
   "metadata": {},
   "outputs": [
    {
     "name": "stdout",
     "output_type": "stream",
     "text": [
      "+-------+--------------------+------------------+\n",
      "|summary|           norm_text|             Class|\n",
      "+-------+--------------------+------------------+\n",
      "|  count|                4602|              4602|\n",
      "|   mean|                null|0.5084745762711864|\n",
      "| stddev|                null|0.4999825016554307|\n",
      "|    min|\" An FYI to all t...|                 0|\n",
      "|    max|�trying to draft ...|                 1|\n",
      "+-------+--------------------+------------------+\n",
      "\n",
      "+--------------------+-----+\n",
      "|           norm_text|Class|\n",
      "+--------------------+-----+\n",
      "|Illegals must be ...|    1|\n",
      "|is there any othe...|    0|\n",
      "|Caring - The GOP ...|    0|\n",
      "|So much stupid go...|    0|\n",
      "|THE TRUMP IMMIGRA...|    1|\n",
      "|Christie on Donal...|    0|\n",
      "|Not a Trump fan, ...|    1|\n",
      "|Court Has To Step...|    0|\n",
      "|Trump is correct ...|    1|\n",
      "|\"I�m going to pre...|    1|\n",
      "|I really hope peo...|    0|\n",
      "|Trump is claiming...|    0|\n",
      "|Latest poll has T...|    1|\n",
      "|BOOM � Univision ...|    1|\n",
      "|I am now all in f...|    1|\n",
      "|\"His ratings amon...|    0|\n",
      "|Today's Trump pos...|    0|\n",
      "|Donald trump the ...|    0|\n",
      "|A little surprise...|    1|\n",
      "|Trump is the last...|    0|\n",
      "+--------------------+-----+\n",
      "only showing top 20 rows\n",
      "\n"
     ]
    }
   ],
   "source": [
    "# Normalize tweets\n",
    "from pyspark.sql.functions import regexp_replace\n",
    "from pyspark.sql.functions import trim\n",
    "\n",
    "rt_regex = r\"(?=\\s?)(RT)(?=\\s?)\"\n",
    "user_regex = r\"@\\S+\"\n",
    "url_regex = r\"http[s]?:\\/\\/\\S+\"\n",
    "hashtag_regex = r\"#\"\n",
    "unicode_regex = r\"<ed>|<U\\+[^>]*>\"\n",
    "space_etc_regex = r\"^[\\.'\\\",]\\s+|\\s{2,}|\\n\"\n",
    "\n",
    "# Remove RT, users (@foo), URLs, #s, line feeds, odd unicode 'tags'\n",
    "uber_regex =  \"|\".join([rt_regex, user_regex, url_regex, hashtag_regex, unicode_regex])\n",
    "\n",
    "labeled_data = labeled_data.withColumn(\"norm_text\", regexp_replace(\"text\", uber_regex, \"\"))\n",
    "labeled_data = labeled_data.withColumn(\"norm_text\", trim(regexp_replace(\"norm_text\", space_etc_regex, \" \")))\n",
    "labeled_data = labeled_data.filter(labeled_data.norm_text != '')\n",
    "labeled_data = labeled_data.select(\"norm_text\", \"Class\")\n",
    "labeled_data.describe().show()\n",
    "labeled_data.show()"
   ]
  },
  {
   "cell_type": "code",
   "execution_count": 23,
   "metadata": {},
   "outputs": [],
   "source": [
    "train_data, test_data = labeled_data.randomSplit([0.8, 0.2], seed=71082)\n",
    "\n",
    "def write_df(df, dirname, filename):\n",
    "    Path = sc._gateway.jvm.org.apache.hadoop.fs.Path\n",
    "    FileSystem = sc._gateway.jvm.org.apache.hadoop.fs.FileSystem\n",
    "    Configuration = sc._gateway.jvm.org.apache.hadoop.conf.Configuration\n",
    "\n",
    "    tmp_name = filename + \".tmp\"\n",
    "    df.coalesce(1).write.mode('overwrite').text(tmp_name)\n",
    "    \n",
    "    fs = FileSystem.get(Configuration())\n",
    "    fs.mkdirs(Path(dirname))\n",
    "    # Assume one file output\n",
    "    file = fs.globStatus(Path(tmp_name + \"/*.txt\"))[0].getPath();\n",
    "    fs.rename(file, Path(dirname + \"/\" + filename));\n",
    "    fs.delete(Path(tmp_name), True);\n",
    "       \n",
    "# split training data into positive/negative\n",
    "positive_data = train_data.filter(train_data.Class == \"1\").select(\"norm_text\")\n",
    "write_df(positive_data, \"train-data.txt\", \"positive.txt\")\n",
    "\n",
    "negative_data = labeled_data.filter(train_data.Class == \"0\").select(\"norm_text\")\n",
    "write_df(negative_data, \"train-data.txt\", \"negative.txt\")\n",
    "\n",
    "test_data.write.mode(\"overwrite\").parquet(\"test-data.parquet\")"
   ]
  }
 ],
 "metadata": {
  "anaconda-cloud": {},
  "kernelspec": {
   "display_name": "Python 3",
   "language": "python",
   "name": "python3"
  },
  "language_info": {
   "codemirror_mode": {
    "name": "ipython",
    "version": 3
   },
   "file_extension": ".py",
   "mimetype": "text/x-python",
   "name": "python",
   "nbconvert_exporter": "python",
   "pygments_lexer": "ipython3",
   "version": "3.6.2"
  }
 },
 "nbformat": 4,
 "nbformat_minor": 2
}
