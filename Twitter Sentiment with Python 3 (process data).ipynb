{
 "cells": [
  {
   "cell_type": "markdown",
   "metadata": {},
   "source": [
    "# Data processing"
   ]
  },
  {
   "cell_type": "code",
   "execution_count": 1,
   "metadata": {},
   "outputs": [],
   "source": [
    "import os\n",
    "# Load Spark NLP package as it's not included in all-spark-notebook\n",
    "os.environ['PYSPARK_SUBMIT_ARGS'] = '--packages JohnSnowLabs:spark-nlp:1.2.3 pyspark-shell'"
   ]
  },
  {
   "cell_type": "code",
   "execution_count": 2,
   "metadata": {},
   "outputs": [],
   "source": [
    "import pyspark\n",
    "from pyspark.sql import SparkSession\n",
    "\n",
    "conf = pyspark.SparkConf()\n",
    "conf.set(\"spark.executor.memory\", \"4g\")\n",
    "conf.set(\"spark.driver.memory\", \"4g\")\n",
    "\n",
    "sc = pyspark.SparkContext(conf = conf)\n",
    "spark = SparkSession(sc)"
   ]
  },
  {
   "cell_type": "code",
   "execution_count": 13,
   "metadata": {},
   "outputs": [
    {
     "name": "stdout",
     "output_type": "stream",
     "text": [
      "+--------------------+-----+\n",
      "|           norm_text|Class|\n",
      "+--------------------+-----+\n",
      "|DidUMiss? Trump m...|    1|\n",
      "|Next question to ...|    0|\n",
      "|When Trump become...|    1|\n",
      "|scott walker says...|    0|\n",
      "|Dude.. I just ran...|    0|\n",
      "|I donate to polit...|    1|\n",
      "|Jackie Who? Donal...|    1|\n",
      "|NYC News Donald T...|    1|\n",
      "|Trump is dangerou...|    0|\n",
      "|Majority of Ameri...|    1|\n",
      "|The polls have be...|    1|\n",
      "|Trump's latest fo...|    1|\n",
      "|Very interesting....|    1|\n",
      "|Donald Trump and ...|    1|\n",
      "|Totally planned o...|    0|\n",
      "|When will you wri...|    0|\n",
      "|CNN: Donald Trump...|    1|\n",
      "|Cleric Rejects Al...|    0|\n",
      "|Donald Trump Does...|    1|\n",
      "|Donald Trump has ...|    1|\n",
      "+--------------------+-----+\n",
      "only showing top 20 rows\n",
      "\n"
     ]
    }
   ],
   "source": [
    "# Read in data produced earlier\n",
    "test_data = spark.read.parquet(\"test-data.parquet\")\n",
    "# Drop any redundant data\n",
    "test_data = test_data.distinct()\n",
    "test_data.cache()\n",
    "test_data.show()"
   ]
  },
  {
   "cell_type": "markdown",
   "metadata": {},
   "source": [
    "Execute NLP pipeline using the Vivekn annotator."
   ]
  },
  {
   "cell_type": "code",
   "execution_count": 14,
   "metadata": {},
   "outputs": [
    {
     "name": "stdout",
     "output_type": "stream",
     "text": [
      "+--------------------+-----+--------------------+\n",
      "|           norm_text|Class|  finished_sentiment|\n",
      "+--------------------+-----+--------------------+\n",
      "|DidUMiss? Trump m...|    1|result->positive@...|\n",
      "|Next question to ...|    0|    result->negative|\n",
      "|When Trump become...|    1|result->positive@...|\n",
      "|scott walker says...|    0|result->negative@...|\n",
      "|Dude.. I just ran...|    0|result->negative@...|\n",
      "|I donate to polit...|    1|result->positive@...|\n",
      "|Jackie Who? Donal...|    1|result->positive@...|\n",
      "|NYC News Donald T...|    1|    result->positive|\n",
      "|Trump is dangerou...|    0|    result->negative|\n",
      "|Majority of Ameri...|    1|    result->positive|\n",
      "|The polls have be...|    1|    result->positive|\n",
      "|Trump's latest fo...|    1|result->positive@...|\n",
      "|Very interesting....|    1|result->positive@...|\n",
      "|Donald Trump and ...|    1|    result->negative|\n",
      "|Totally planned o...|    0|result->negative@...|\n",
      "|When will you wri...|    0|    result->negative|\n",
      "|CNN: Donald Trump...|    1|    result->positive|\n",
      "|Cleric Rejects Al...|    0|    result->negative|\n",
      "|Donald Trump Does...|    1|    result->positive|\n",
      "|Donald Trump has ...|    1|result->positive@...|\n",
      "+--------------------+-----+--------------------+\n",
      "only showing top 20 rows\n",
      "\n"
     ]
    }
   ],
   "source": [
    "from pyspark.ml import Pipeline, PipelineModel\n",
    "from sparknlp.annotator import *\n",
    "from sparknlp.base import DocumentAssembler, Finisher\n",
    "\n",
    "document_assembler = DocumentAssembler().setInputCol(\"norm_text\")\n",
    "    \n",
    "sentence_detector = SentenceDetectorModel().setInputCols([\"document\"]).setOutputCol(\"sentence\")\n",
    "\n",
    "tokenizer = RegexTokenizer().setInputCols([\"sentence\"]).setOutputCol(\"token\")\n",
    "        \n",
    "normalizer = Normalizer().setInputCols([\"token\"]).setOutputCol(\"normal\")        \n",
    "        \n",
    "spell_checker = NorvigSweetingApproach().setInputCols([\"normal\"]).setOutputCol(\"spell\")\n",
    "        \n",
    "sentiment_detector = ViveknSentimentApproach().setInputCols([\"spell\", \"sentence\"]) \\\n",
    "    .setOutputCol(\"sentiment\").setPositiveSource(\"train-data.txt/positive.txt\") \\\n",
    "    .setNegativeSource(\"train-data.txt/negative.txt\").setPruneCorpus(False)   \n",
    "    \n",
    "finisher = Finisher().setInputCols([\"sentiment\"]).setIncludeKeys(True)\n",
    "    \n",
    "pipeline = Pipeline(stages=[\n",
    "    document_assembler,\n",
    "    sentence_detector,\n",
    "    tokenizer,\n",
    "    normalizer,\n",
    "    spell_checker,\n",
    "    sentiment_detector,\n",
    "    finisher\n",
    "])\n",
    "\n",
    "sentiment_data = pipeline.fit(test_data).transform(test_data)    \n",
    "sentiment_data.show()"
   ]
  },
  {
   "cell_type": "markdown",
   "metadata": {},
   "source": [
    "The pipeline adds an extra column with an sentiment indicated for each sentence in the tweet. The value of the indication is either `result->positive` or `result-negative` and multiple sentences are represented with the repetition of these values delimited by `@`.  In order to get a single Boolean value for the tweet, we take the average of each sentiment indication and then round the result to 0 or 1. In Python 3, the result of rounding a value of .5 is 0. Purely by chance, I decided to be biased towards positive sentiments by adding a small value to force .5 to round to 1. However, in testing I found that doing so resulted in more accurate predictions."
   ]
  },
  {
   "cell_type": "code",
   "execution_count": 15,
   "metadata": {},
   "outputs": [
    {
     "name": "stdout",
     "output_type": "stream",
     "text": [
      "+--------------------+-----+--------------------+---------------+\n",
      "|           norm_text|Class|  finished_sentiment|total_sentiment|\n",
      "+--------------------+-----+--------------------+---------------+\n",
      "|DidUMiss? Trump m...|    1|result->positive@...|              1|\n",
      "|Next question to ...|    0|    result->negative|              0|\n",
      "|When Trump become...|    1|result->positive@...|              1|\n",
      "|scott walker says...|    0|result->negative@...|              0|\n",
      "|Dude.. I just ran...|    0|result->negative@...|              0|\n",
      "|I donate to polit...|    1|result->positive@...|              1|\n",
      "|Jackie Who? Donal...|    1|result->positive@...|              1|\n",
      "|NYC News Donald T...|    1|    result->positive|              1|\n",
      "|Trump is dangerou...|    0|    result->negative|              0|\n",
      "|Majority of Ameri...|    1|    result->positive|              1|\n",
      "|The polls have be...|    1|    result->positive|              1|\n",
      "|Trump's latest fo...|    1|result->positive@...|              1|\n",
      "|Very interesting....|    1|result->positive@...|              1|\n",
      "|Donald Trump and ...|    1|    result->negative|              0|\n",
      "|Totally planned o...|    0|result->negative@...|              0|\n",
      "|When will you wri...|    0|    result->negative|              0|\n",
      "|CNN: Donald Trump...|    1|    result->positive|              1|\n",
      "|Cleric Rejects Al...|    0|    result->negative|              0|\n",
      "|Donald Trump Does...|    1|    result->positive|              1|\n",
      "|Donald Trump has ...|    1|result->positive@...|              1|\n",
      "+--------------------+-----+--------------------+---------------+\n",
      "only showing top 20 rows\n",
      "\n"
     ]
    }
   ],
   "source": [
    "from pyspark.sql.functions import udf\n",
    "from pyspark.sql.types import IntegerType\n",
    "from statistics import mean\n",
    "\n",
    "def sigmoid(s):\n",
    "    return 0 if s is None else round(mean(map(lambda x: 1 if (x == \"result->positive\") else 0, s.split(\"@\"))) + .01)\n",
    "\n",
    "sigmoid_udf = udf(sigmoid, IntegerType())\n",
    "\n",
    "sentiment_data = sentiment_data.withColumn(\"total_sentiment\", sigmoid_udf(\"finished_sentiment\"))\n",
    "sentiment_data.cache()\n",
    "sentiment_data.show()"
   ]
  },
  {
   "cell_type": "markdown",
   "metadata": {},
   "source": [
    "Finally, we determine the accuracy of the model."
   ]
  },
  {
   "cell_type": "code",
   "execution_count": 16,
   "metadata": {},
   "outputs": [
    {
     "data": {
      "text/plain": [
       "0.9105431309904153"
      ]
     },
     "execution_count": 16,
     "metadata": {},
     "output_type": "execute_result"
    }
   ],
   "source": [
    "correct_count = sentiment_data.filter(sentiment_data.Class == sentiment_data.total_sentiment).count()\n",
    "total_count =  sentiment_data.count()\n",
    "correct_count / total_count"
   ]
  }
 ],
 "metadata": {
  "anaconda-cloud": {},
  "kernelspec": {
   "display_name": "Python 3",
   "language": "python",
   "name": "python3"
  },
  "language_info": {
   "codemirror_mode": {
    "name": "ipython",
    "version": 3
   },
   "file_extension": ".py",
   "mimetype": "text/x-python",
   "name": "python",
   "nbconvert_exporter": "python",
   "pygments_lexer": "ipython3",
   "version": "3.6.2"
  }
 },
 "nbformat": 4,
 "nbformat_minor": 2
}
