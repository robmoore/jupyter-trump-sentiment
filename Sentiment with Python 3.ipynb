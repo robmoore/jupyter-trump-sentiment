{
 "cells": [
  {
   "cell_type": "code",
   "execution_count": 1,
   "metadata": {},
   "outputs": [],
   "source": [
    "import os"
   ]
  },
  {
   "cell_type": "code",
   "execution_count": 2,
   "metadata": {},
   "outputs": [],
   "source": [
    "os.environ['PYSPARK_SUBMIT_ARGS'] = '--packages JohnSnowLabs:spark-nlp:1.2.3 pyspark-shell'"
   ]
  },
  {
   "cell_type": "code",
   "execution_count": 3,
   "metadata": {},
   "outputs": [],
   "source": [
    "import pyspark\n",
    "from pyspark.sql import SparkSession\n",
    "from pyspark.ml import Pipeline, PipelineModel"
   ]
  },
  {
   "cell_type": "code",
   "execution_count": 4,
   "metadata": {},
   "outputs": [],
   "source": [
    "sc = pyspark.SparkContext()\n",
    "spark = SparkSession(sc)"
   ]
  },
  {
   "cell_type": "code",
   "execution_count": 5,
   "metadata": {},
   "outputs": [
    {
     "name": "stdout",
     "output_type": "stream",
     "text": [
      "+------+---------+--------------------+\n",
      "|itemid|sentiment|                text|\n",
      "+------+---------+--------------------+\n",
      "|393940|        1|@Natasja_Cupcake ...|\n",
      "|393941|        1|@Natasja_Cupcake ...|\n",
      "|393942|        0|@Natasja_Cupcake ...|\n",
      "|393943|        0|@Natasja_Cupcake ...|\n",
      "|393944|        1|@Natasja_Cupcake ...|\n",
      "|393945|        1|@renegade37918  I...|\n",
      "|393946|        0|@renegadejk529 i ...|\n",
      "|393947|        1|@RenegadeScribe O...|\n",
      "|393948|        0|@RenegadeSOA513 ....|\n",
      "|393949|        1|@RenegadeSOA513 J...|\n",
      "|393950|        0|@RenegadeSOA513 L...|\n",
      "|393951|        1|@RenegadEuphoriX ...|\n",
      "|393952|        1|@RenegadeVyper DO...|\n",
      "|393953|        1|@Renegal Nah, it ...|\n",
      "|393954|        1|@Renegat Ñ?ÑƒÐ¿Ðµ...|\n",
      "|393955|        1|@reneilim don't f...|\n",
      "|393956|        1|@renelannte mouse...|\n",
      "|393957|        0|@renemonney Jam W...|\n",
      "|393958|        0|@renemonster i wa...|\n",
      "|393959|        1|  @renems enviei rs |\n",
      "+------+---------+--------------------+\n",
      "only showing top 20 rows\n",
      "\n"
     ]
    }
   ],
   "source": [
    "#Load the input data to be annotated\n",
    "data = spark. \\\n",
    "        read. \\\n",
    "        parquet(\"sentiment.parquet\"). \\\n",
    "        limit(1000)\n",
    "data.cache()\n",
    "data.count()\n",
    "data.show()"
   ]
  },
  {
   "cell_type": "code",
   "execution_count": 6,
   "metadata": {},
   "outputs": [],
   "source": [
    "from sparknlp.annotator import *\n",
    "from sparknlp.base import DocumentAssembler, Finisher"
   ]
  },
  {
   "cell_type": "code",
   "execution_count": 19,
   "metadata": {},
   "outputs": [],
   "source": [
    "### Define the dataframe\n",
    "document_assembler = DocumentAssembler() \\\n",
    "            .setInputCol(\"text\")\n",
    "    \n",
    "sentence_detector = SentenceDetectorModel() \\\n",
    "    .setInputCols([\"document\"]) \\\n",
    "    .setOutputCol(\"sentence\")\n",
    "\n",
    "tokenizer = RegexTokenizer() \\\n",
    "            .setInputCols([\"sentence\"]) \\\n",
    "            .setOutputCol(\"token\")\n",
    "        \n",
    "normalizer = Normalizer() \\\n",
    "            .setInputCols([\"token\"]) \\\n",
    "            .setOutputCol(\"normal\")        \n",
    "        \n",
    "spell_checker = NorvigSweetingApproach() \\\n",
    "            .setInputCols([\"normal\"]) \\\n",
    "            .setOutputCol(\"spell\")\n",
    "        \n",
    "sentiment_detector = ViveknSentimentApproach() \\\n",
    "    .setInputCols([\"spell\", \"sentence\"]) \\\n",
    "    .setOutputCol(\"sentiment\") \\\n",
    "    .setPositiveSource(\"vivekn/positive\") \\\n",
    "    .setNegativeSource(\"vivekn/negative\") \\\n",
    "    .setPruneCorpus(False) # when training on small data you may want to disable this to not cut off infrequent words\n",
    "    \n",
    "finisher = Finisher() \\\n",
    "    .setInputCols([\"sentiment\"]) \\\n",
    "    .setIncludeKeys(True) \\\n",
    "    ##.setCleanAnnotations(False)\n",
    "    \n",
    "pipeline = Pipeline(stages=[\n",
    "    document_assembler,\n",
    "    sentence_detector,\n",
    "    tokenizer,\n",
    "    normalizer,\n",
    "    spell_checker,\n",
    "    sentiment_detector,\n",
    "    finisher\n",
    "])\n",
    "\n",
    "sentiment_data = pipeline.fit(data).transform(data)    "
   ]
  },
  {
   "cell_type": "code",
   "execution_count": 20,
   "metadata": {},
   "outputs": [
    {
     "name": "stdout",
     "output_type": "stream",
     "text": [
      "+------+--------------------+--------------------+\n",
      "|itemid|                text|  finished_sentiment|\n",
      "+------+--------------------+--------------------+\n",
      "|393940|@Natasja_Cupcake ...|result->positive@...|\n",
      "|393941|@Natasja_Cupcake ...|    result->positive|\n",
      "|393942|@Natasja_Cupcake ...|result->positive@...|\n",
      "|393943|@Natasja_Cupcake ...|result->positive@...|\n",
      "|393944|@Natasja_Cupcake ...|    result->positive|\n",
      "|393945|@renegade37918  I...|    result->positive|\n",
      "|393946|@renegadejk529 i ...|    result->positive|\n",
      "|393947|@RenegadeScribe O...|result->positive@...|\n",
      "|393948|@RenegadeSOA513 ....|result->positive@...|\n",
      "|393949|@RenegadeSOA513 J...|    result->positive|\n",
      "|393950|@RenegadeSOA513 L...|    result->positive|\n",
      "|393951|@RenegadEuphoriX ...|result->positive@...|\n",
      "|393952|@RenegadeVyper DO...|result->positive@...|\n",
      "|393953|@Renegal Nah, it ...|    result->positive|\n",
      "|393954|@Renegat Ñ?ÑƒÐ¿Ðµ...|    result->positive|\n",
      "|393955|@reneilim don't f...|result->positive@...|\n",
      "|393956|@renelannte mouse...|result->positive@...|\n",
      "|393957|@renemonney Jam W...|    result->negative|\n",
      "|393958|@renemonster i wa...|result->negative@...|\n",
      "|393959|  @renems enviei rs |    result->positive|\n",
      "+------+--------------------+--------------------+\n",
      "only showing top 20 rows\n",
      "\n"
     ]
    }
   ],
   "source": [
    "sentiment_data.show()"
   ]
  },
  {
   "cell_type": "code",
   "execution_count": 22,
   "metadata": {},
   "outputs": [
    {
     "name": "stdout",
     "output_type": "stream",
     "text": [
      "Row(itemid=393940, text=\"@Natasja_Cupcake But how sweet that your kids are spoiling you, so they should!  You've got a couple of great ones, hon!!!\", finished_sentiment='result->positive@result->positive')\n",
      "Row(itemid=393941, text='@Natasja_Cupcake home-made burgers are the best ', finished_sentiment='result->positive')\n",
      "Row(itemid=393942, text=\"@Natasja_Cupcake I got yours, but not Cindy's.     Or, I got one but not the other.\", finished_sentiment='result->positive@result->positive')\n",
      "Row(itemid=393943, text='@Natasja_Cupcake I think only 23.  I get confused easy tho. LOL I hope so if so two stopped following me 2. I know one did already.  ', finished_sentiment='result->positive@result->positive@result->positive@result->positive')\n",
      "Row(itemid=393944, text='@Natasja_Cupcake Just gave ya a shout out in the chat room ', finished_sentiment='result->positive')\n",
      "Row(itemid=393945, text='@renegade37918  I love the rain, its so relaxing. ', finished_sentiment='result->positive')\n",
      "Row(itemid=393946, text='@renegadejk529 i wanted to go tubin ', finished_sentiment='result->positive')\n",
      "Row(itemid=393947, text='@RenegadeScribe Okay, I am up to speed. Man. How often do new ones come out? I feel like I being &quot;Robert Jordan-ed&quot; ', finished_sentiment='result->positive@result->positive@result->positive@result->positive@result->positive')\n",
      "Row(itemid=393948, text='@RenegadeSOA513 .....sooooooo..1. hate ur background 2. ima need u to help me w/ my default pic, it wont show up  3. hate the background', finished_sentiment='result->positive@result->positive@result->positive@result->positive@result->positive')\n",
      "Row(itemid=393949, text=\"@RenegadeSOA513 Just how I like my boys, with fake Id's on deck.. \", finished_sentiment='result->positive')\n",
      "Row(itemid=393950, text='@RenegadeSOA513 LoL just woke up ', finished_sentiment='result->positive')\n",
      "Row(itemid=393951, text='@RenegadEuphoriX Cool.  Pass the word along!', finished_sentiment='result->positive@result->positive')\n",
      "Row(itemid=393952, text=\"@RenegadeVyper DO IT! I'll come over and help...then bury the body \", finished_sentiment='result->positive@result->negative@result->positive')\n",
      "Row(itemid=393953, text=\"@Renegal Nah, it just means you're good at Twitter  When'd you start?\", finished_sentiment='result->positive')\n",
      "Row(itemid=393954, text='@Renegat Ñ?ÑƒÐ¿ÐµÑ€! Ñ?Ð¿Ð°Ñ?Ð¸Ð±Ð¾ ', finished_sentiment='result->positive')\n",
      "Row(itemid=393955, text=\"@reneilim don't fret!  think of the praise they'll give you once your projects are done \", finished_sentiment='result->positive@result->positive')\n",
      "Row(itemid=393956, text='@renelannte mousesports.com Holy Grail? Hm? ', finished_sentiment='result->positive@result->positive')\n",
      "Row(itemid=393957, text='@renemonney Jam Wow was just not as good tho. ', finished_sentiment='result->negative')\n",
      "Row(itemid=393958, text=\"@renemonster i was guna say, don't u have one? from wen we went on tha cruise.. but u didn't go \", finished_sentiment='result->negative@result->positive@result->positive')\n",
      "Row(itemid=393959, text='@renems enviei rs ', finished_sentiment='result->positive')\n"
     ]
    }
   ],
   "source": [
    "for r in sentiment_data.take(20):\n",
    "    print(r)"
   ]
  },
  {
   "cell_type": "code",
   "execution_count": 16,
   "metadata": {},
   "outputs": [],
   "source": [
    "pipeline.write().overwrite().save(\"./ps\")\n",
    "pipeline.fit(data).write().overwrite().save(\"./ms\")"
   ]
  },
  {
   "cell_type": "code",
   "execution_count": 17,
   "metadata": {},
   "outputs": [
    {
     "data": {
      "text/plain": [
       "PipelineModel_44c4a9d4974d48682f50"
      ]
     },
     "execution_count": 17,
     "metadata": {},
     "output_type": "execute_result"
    }
   ],
   "source": [
    "Pipeline.read().load(\"./ps\")\n",
    "PipelineModel.read().load(\"./ms\")"
   ]
  },
  {
   "cell_type": "code",
   "execution_count": 24,
   "metadata": {},
   "outputs": [
    {
     "name": "stdout",
     "output_type": "stream",
     "text": [
      "Collecting emot\n",
      "  Downloading emot-1.0-py3-none-any.whl\n",
      "Installing collected packages: emot\n",
      "Successfully installed emot-1.0\n"
     ]
    }
   ],
   "source": [
    "!pip install emot\n"
   ]
  },
  {
   "cell_type": "code",
   "execution_count": 48,
   "metadata": {},
   "outputs": [
    {
     "data": {
      "text/plain": [
       "'I love python'"
      ]
     },
     "execution_count": 48,
     "metadata": {},
     "output_type": "execute_result"
    }
   ],
   "source": [
    "import emot\n",
    "text = \"I love python 👨 :-) :^)\"\n",
    "emoji = emot.emoji(text)\n",
    "#[{'value': '👨', 'location': [10, 10]}]\n",
    "emoticons = emot.emoticons(text)\n",
    "#[{'value': ':-)', 'location': [12, 15]}]\n",
    "text.replace('👨', '')\n",
    "for data in emot.emoji(text):\n",
    "    text = text.replace(data['value'], '')   \n",
    "for data in emot.emoticons(text):\n",
    "    text = text.replace(data['value'], '')\n",
    "text.rstrip()"
   ]
  }
 ],
 "metadata": {
  "anaconda-cloud": {},
  "kernelspec": {
   "display_name": "Python 3",
   "language": "python",
   "name": "python3"
  },
  "language_info": {
   "codemirror_mode": {
    "name": "ipython",
    "version": 3
   },
   "file_extension": ".py",
   "mimetype": "text/x-python",
   "name": "python",
   "nbconvert_exporter": "python",
   "pygments_lexer": "ipython3",
   "version": "3.6.2"
  }
 },
 "nbformat": 4,
 "nbformat_minor": 2
}
